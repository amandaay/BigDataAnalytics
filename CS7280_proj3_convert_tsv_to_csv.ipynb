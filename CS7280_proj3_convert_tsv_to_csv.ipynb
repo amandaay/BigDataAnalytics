{
  "nbformat": 4,
  "nbformat_minor": 0,
  "metadata": {
    "colab": {
      "provenance": []
    },
    "kernelspec": {
      "name": "python3",
      "display_name": "Python 3"
    },
    "language_info": {
      "name": "python"
    }
  },
  "cells": [
    {
      "cell_type": "code",
      "source": [
        "!pip install kaggle"
      ],
      "metadata": {
        "id": "Dg5-LQ_xCxDZ"
      },
      "execution_count": null,
      "outputs": []
    },
    {
      "cell_type": "code",
      "source": [
        "from google.colab import drive\n",
        "drive.mount('/content/drive')"
      ],
      "metadata": {
        "id": "_OhJJtO1C9mN"
      },
      "execution_count": null,
      "outputs": []
    },
    {
      "cell_type": "code",
      "source": [
        "!mkdir ~/.kaggle"
      ],
      "metadata": {
        "id": "XhdzIWleDOSh"
      },
      "execution_count": null,
      "outputs": []
    },
    {
      "cell_type": "code",
      "source": [
        "!cp /content/drive/MyDrive/kaggle.json ~/.kaggle/"
      ],
      "metadata": {
        "id": "tJhatzNlGyXm"
      },
      "execution_count": null,
      "outputs": []
    },
    {
      "cell_type": "code",
      "execution_count": null,
      "metadata": {
        "id": "jX25Wwhc3o00"
      },
      "outputs": [],
      "source": [
        "# Step 4: Set appropriate permissions for the Kaggle API token\n",
        "!chmod 600 ~/.kaggle/kaggle.json"
      ]
    },
    {
      "cell_type": "code",
      "source": [
        "# Step 5: Download the dataset\n",
        "!kaggle datasets download -d vincentvaseghi/us-cities-housing-market-data"
      ],
      "metadata": {
        "id": "-XUv0qA34w7k"
      },
      "execution_count": null,
      "outputs": []
    },
    {
      "cell_type": "code",
      "source": [
        "# Step 6: Unzip the dataset\n",
        "!unzip us-cities-housing-market-data.zip"
      ],
      "metadata": {
        "id": "AsfulcPb4wAu"
      },
      "execution_count": null,
      "outputs": []
    },
    {
      "cell_type": "code",
      "source": [
        "# Step 7: Import necessary libraries\n",
        "import pandas as pd"
      ],
      "metadata": {
        "id": "iVC1Exi0ILFu"
      },
      "execution_count": null,
      "outputs": []
    },
    {
      "cell_type": "code",
      "source": [
        "csv_table = pd.read_table('city_market_tracker.tsv000', sep='\\t')"
      ],
      "metadata": {
        "id": "HpjezItfIL5S"
      },
      "execution_count": null,
      "outputs": []
    },
    {
      "cell_type": "code",
      "source": [
        "csv_table.to_csv('redfin.csv', index=False)"
      ],
      "metadata": {
        "id": "khODmejWIfi-"
      },
      "execution_count": null,
      "outputs": []
    },
    {
      "cell_type": "code",
      "source": [
        "import os\n",
        "print(os.getcwd())"
      ],
      "metadata": {
        "id": "jqlI8YjRKcyZ"
      },
      "execution_count": null,
      "outputs": []
    },
    {
      "cell_type": "code",
      "source": [
        "!mv redfin.csv /content/drive/MyDrive"
      ],
      "metadata": {
        "id": "hb8n5j6pK4X2"
      },
      "execution_count": null,
      "outputs": []
    }
  ]
}